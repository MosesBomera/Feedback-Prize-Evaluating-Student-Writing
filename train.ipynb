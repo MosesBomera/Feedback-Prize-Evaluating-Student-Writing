{
 "cells": [
  {
   "cell_type": "markdown",
   "id": "4604d1ce",
   "metadata": {
    "papermill": {
     "duration": 0.02433,
     "end_time": "2022-02-26T23:55:00.629188",
     "exception": false,
     "start_time": "2022-02-26T23:55:00.604858",
     "status": "completed"
    },
    "tags": []
   },
   "source": [
    "# LEFTMOSTSEG MODEL BASELINE"
   ]
  },
  {
   "cell_type": "markdown",
   "id": "435c5a3c",
   "metadata": {
    "papermill": {
     "duration": 0.024339,
     "end_time": "2022-02-26T23:55:00.683728",
     "exception": false,
     "start_time": "2022-02-26T23:55:00.659389",
     "status": "completed"
    },
    "tags": []
   },
   "source": [
    "Title: Neural Sequence Segmentation as Determining the Leftmost Segments <br>\n",
    "Author: Li, Yangming and Liu, Lemao and Yao, Kaisheng <br>\n",
    "Booktitle: Proceedings of the 2021 Conference of the North American Chapter of the Association for Computational Linguistics <br>\n",
    "Publisher: Association for Computational Linguistics"
   ]
  },
  {
   "cell_type": "markdown",
   "id": "d7a0b4f2",
   "metadata": {
    "papermill": {
     "duration": 0.018471,
     "end_time": "2022-02-26T23:55:00.721043",
     "exception": false,
     "start_time": "2022-02-26T23:55:00.702572",
     "status": "completed"
    },
    "tags": []
   },
   "source": [
    "### SETUP"
   ]
  },
  {
   "cell_type": "code",
   "execution_count": 1,
   "id": "3c6fe8c3",
   "metadata": {
    "execution": {
     "iopub.execute_input": "2022-02-26T23:55:00.769234Z",
     "iopub.status.busy": "2022-02-26T23:55:00.767527Z",
     "iopub.status.idle": "2022-02-26T23:55:01.488479Z",
     "shell.execute_reply": "2022-02-26T23:55:01.487820Z",
     "shell.execute_reply.started": "2022-02-26T23:25:56.879408Z"
    },
    "papermill": {
     "duration": 0.746309,
     "end_time": "2022-02-26T23:55:01.488618",
     "exception": false,
     "start_time": "2022-02-26T23:55:00.742309",
     "status": "completed"
    },
    "tags": []
   },
   "outputs": [],
   "source": [
    "# LeftmostSeg setup\n",
    "!cp -R ../input/leftmostseg/LeftmostSeg ./"
   ]
  },
  {
   "cell_type": "code",
   "execution_count": 2,
   "id": "44a47bc6",
   "metadata": {
    "_cell_guid": "b1076dfc-b9ad-4769-8c92-a6c4dae69d19",
    "_uuid": "8f2839f25d086af736a60e9eeb907d3b93b6e0e5",
    "execution": {
     "iopub.execute_input": "2022-02-26T23:55:01.532315Z",
     "iopub.status.busy": "2022-02-26T23:55:01.531771Z",
     "iopub.status.idle": "2022-02-26T23:55:03.096037Z",
     "shell.execute_reply": "2022-02-26T23:55:03.095468Z",
     "shell.execute_reply.started": "2022-02-26T23:27:30.941458Z"
    },
    "papermill": {
     "duration": 1.588636,
     "end_time": "2022-02-26T23:55:03.096190",
     "exception": false,
     "start_time": "2022-02-26T23:55:01.507554",
     "status": "completed"
    },
    "tags": []
   },
   "outputs": [],
   "source": [
    "import os\n",
    "import random\n",
    "import json\n",
    "from pathlib import Path\n",
    "from glob import glob\n",
    "\n",
    "import numpy as np # linear algebra\n",
    "import pandas as pd # data processing, CSV file I/O (e.g. pd.read_csv)\n",
    "\n",
    "import torch\n",
    "from torch.optim import Adam\n",
    "\n",
    "# LeftmostSeg\n",
    "from LeftmostSeg.misc import fix_random_seed\n",
    "from LeftmostSeg.utils import setUpVocab, getSegmentBounds, getDataLoader\n",
    "from LeftmostSeg.model import LeftmostSeg\n",
    "from LeftmostSeg.utils import Procedure, FeedbackPrizeDataset"
   ]
  },
  {
   "cell_type": "code",
   "execution_count": 3,
   "id": "0349622d",
   "metadata": {
    "execution": {
     "iopub.execute_input": "2022-02-26T23:55:03.139258Z",
     "iopub.status.busy": "2022-02-26T23:55:03.138426Z",
     "iopub.status.idle": "2022-02-26T23:55:03.140203Z",
     "shell.execute_reply": "2022-02-26T23:55:03.140624Z",
     "shell.execute_reply.started": "2022-02-26T23:27:31.963117Z"
    },
    "papermill": {
     "duration": 0.025658,
     "end_time": "2022-02-26T23:55:03.140751",
     "exception": false,
     "start_time": "2022-02-26T23:55:03.115093",
     "status": "completed"
    },
    "tags": []
   },
   "outputs": [],
   "source": [
    "# Logging\n",
    "import logging\n",
    "# Set logger\n",
    "logging.basicConfig(format='[%(asctime)s %(levelname)s] %(message)s', datefmt='%d-%b-%Y %H:%M')\n",
    "log = logging.getLogger(__name__)\n",
    "log.setLevel(logging.WARN)\n",
    "log.setLevel(logging.INFO)\n",
    "log.setLevel(logging.DEBUG)"
   ]
  },
  {
   "cell_type": "markdown",
   "id": "9f44c359",
   "metadata": {
    "papermill": {
     "duration": 0.019656,
     "end_time": "2022-02-26T23:55:03.178641",
     "exception": false,
     "start_time": "2022-02-26T23:55:03.158985",
     "status": "completed"
    },
    "tags": []
   },
   "source": [
    "### UTILITIES"
   ]
  },
  {
   "cell_type": "markdown",
   "id": "dc4de299",
   "metadata": {
    "papermill": {
     "duration": 0.017944,
     "end_time": "2022-02-26T23:55:03.215050",
     "exception": false,
     "start_time": "2022-02-26T23:55:03.197106",
     "status": "completed"
    },
    "tags": []
   },
   "source": [
    "### DATA"
   ]
  },
  {
   "cell_type": "code",
   "execution_count": 4,
   "id": "fbd2d69d",
   "metadata": {
    "execution": {
     "iopub.execute_input": "2022-02-26T23:55:03.303798Z",
     "iopub.status.busy": "2022-02-26T23:55:03.303210Z",
     "iopub.status.idle": "2022-02-26T23:55:03.310639Z",
     "shell.execute_reply": "2022-02-26T23:55:03.310174Z",
     "shell.execute_reply.started": "2022-02-26T23:27:34.083208Z"
    },
    "papermill": {
     "duration": 0.076962,
     "end_time": "2022-02-26T23:55:03.310755",
     "exception": false,
     "start_time": "2022-02-26T23:55:03.233793",
     "status": "completed"
    },
    "tags": []
   },
   "outputs": [],
   "source": [
    "# Fix random state.\n",
    "randomState = 0\n",
    "fix_random_seed(randomState)"
   ]
  },
  {
   "cell_type": "code",
   "execution_count": 5,
   "id": "553c9e7d",
   "metadata": {
    "execution": {
     "iopub.execute_input": "2022-02-26T23:55:03.354139Z",
     "iopub.status.busy": "2022-02-26T23:55:03.353571Z",
     "iopub.status.idle": "2022-02-26T23:55:06.404125Z",
     "shell.execute_reply": "2022-02-26T23:55:06.404604Z",
     "shell.execute_reply.started": "2022-02-26T23:27:52.838201Z"
    },
    "papermill": {
     "duration": 3.07529,
     "end_time": "2022-02-26T23:55:06.404772",
     "exception": false,
     "start_time": "2022-02-26T23:55:03.329482",
     "status": "completed"
    },
    "tags": []
   },
   "outputs": [],
   "source": [
    "# Paths\n",
    "baseDirectory = Path('../input/feedback-prize-2021')\n",
    "dfBase = pd.read_csv(\n",
    "    baseDirectory / 'train.csv', \n",
    "    dtype={'discourse_start': int, 'discourse_end': int}\n",
    ")\n",
    "# Broken labels.\n",
    "brokenLabels = ['DBBF3EF47E93', '96948C0AFC15', '15F434699355', '92C09304882D']\n",
    "# Remove broken label instances.\n",
    "dfBase = dfBase[~dfBase.id.isin(brokenLabels)]\n",
    "# Get segment labels.\n",
    "dfBase['segment_bounds'] = dfBase['predictionstring'].apply(getSegmentBounds)\n",
    "# Add paths.\n",
    "dfBase['text_path'] = dfBase['id'].apply(lambda id_: baseDirectory / f'train/{id_}.txt')"
   ]
  },
  {
   "cell_type": "markdown",
   "id": "e5388edf",
   "metadata": {
    "execution": {
     "iopub.execute_input": "2022-02-20T07:25:18.378815Z",
     "iopub.status.busy": "2022-02-20T07:25:18.378558Z",
     "iopub.status.idle": "2022-02-20T07:25:18.383502Z",
     "shell.execute_reply": "2022-02-20T07:25:18.382782Z",
     "shell.execute_reply.started": "2022-02-20T07:25:18.378791Z"
    },
    "papermill": {
     "duration": 0.018265,
     "end_time": "2022-02-26T23:55:06.443552",
     "exception": false,
     "start_time": "2022-02-26T23:55:06.425287",
     "status": "completed"
    },
    "tags": []
   },
   "source": [
    "#### What is 20% of the current dataset?"
   ]
  },
  {
   "cell_type": "code",
   "execution_count": 6,
   "id": "ab805ccb",
   "metadata": {
    "execution": {
     "iopub.execute_input": "2022-02-26T23:55:06.493599Z",
     "iopub.status.busy": "2022-02-26T23:55:06.492800Z",
     "iopub.status.idle": "2022-02-26T23:55:06.517747Z",
     "shell.execute_reply": "2022-02-26T23:55:06.517039Z",
     "shell.execute_reply.started": "2022-02-26T23:27:59.167998Z"
    },
    "papermill": {
     "duration": 0.055683,
     "end_time": "2022-02-26T23:55:06.517901",
     "exception": false,
     "start_time": "2022-02-26T23:55:06.462218",
     "status": "completed"
    },
    "tags": []
   },
   "outputs": [
    {
     "name": "stdout",
     "output_type": "stream",
     "text": [
      "20% of dataset is: 3118\n"
     ]
    },
    {
     "data": {
      "text/plain": [
       "array(['A143BE759AD2', '16364DA86C3D', '77351280D0B0', ...,\n",
       "       'FF01B32BAC3E', 'FBB35C3EF339', '24B659FCEC04'], dtype=object)"
      ]
     },
     "execution_count": 6,
     "metadata": {},
     "output_type": "execute_result"
    }
   ],
   "source": [
    "print(f\"20% of dataset is: {int(len(dfBase.id.unique()) * 0.2)}\")\n",
    "# The validation essays.\n",
    "valIds = np.random.choice(dfBase.id.unique(), 3118, replace=False)\n",
    "valIds"
   ]
  },
  {
   "cell_type": "code",
   "execution_count": 7,
   "id": "f3204262",
   "metadata": {
    "execution": {
     "iopub.execute_input": "2022-02-26T23:55:06.580878Z",
     "iopub.status.busy": "2022-02-26T23:55:06.580035Z",
     "iopub.status.idle": "2022-02-26T23:55:06.699255Z",
     "shell.execute_reply": "2022-02-26T23:55:06.698742Z",
     "shell.execute_reply.started": "2022-02-26T23:28:00.128085Z"
    },
    "papermill": {
     "duration": 0.161559,
     "end_time": "2022-02-26T23:55:06.699391",
     "exception": false,
     "start_time": "2022-02-26T23:55:06.537832",
     "status": "completed"
    },
    "tags": []
   },
   "outputs": [],
   "source": [
    "# Train columns\n",
    "trainColumns = ['id', 'text_path', 'discourse_id', 'discourse_type', 'predictionstring', 'segment_bounds']\n",
    "# Create the trainSet, valSet\n",
    "trainSet = dfBase[~dfBase.id.isin(valIds)][trainColumns].copy(deep=True).reset_index(drop=True)\n",
    "valSet = dfBase[dfBase.id.isin(valIds)][trainColumns].copy(deep=True).reset_index(drop=True)"
   ]
  },
  {
   "cell_type": "code",
   "execution_count": 8,
   "id": "a9ca4bc3",
   "metadata": {
    "execution": {
     "iopub.execute_input": "2022-02-26T23:55:06.748768Z",
     "iopub.status.busy": "2022-02-26T23:55:06.741904Z",
     "iopub.status.idle": "2022-02-26T23:55:06.758332Z",
     "shell.execute_reply": "2022-02-26T23:55:06.757729Z",
     "shell.execute_reply.started": "2022-02-26T23:28:01.919940Z"
    },
    "papermill": {
     "duration": 0.039651,
     "end_time": "2022-02-26T23:55:06.758495",
     "exception": false,
     "start_time": "2022-02-26T23:55:06.718844",
     "status": "completed"
    },
    "tags": []
   },
   "outputs": [
    {
     "name": "stdout",
     "output_type": "stream",
     "text": [
      "Shapes: (115315, 6), (28926, 6)\n",
      "No of unique Ids: 12472, 3118\n"
     ]
    }
   ],
   "source": [
    "print(f\"Shapes: {trainSet.shape}, {valSet.shape}\")\n",
    "print(f\"No of unique Ids: {len(trainSet.id.unique())}, {len(valSet.id.unique())}\")"
   ]
  },
  {
   "cell_type": "markdown",
   "id": "3dfa23eb",
   "metadata": {
    "papermill": {
     "duration": 0.019297,
     "end_time": "2022-02-26T23:55:06.798286",
     "exception": false,
     "start_time": "2022-02-26T23:55:06.778989",
     "status": "completed"
    },
    "tags": []
   },
   "source": [
    "### MODELING PRE-STEPS"
   ]
  },
  {
   "cell_type": "code",
   "execution_count": 9,
   "id": "1a5f8eb0",
   "metadata": {
    "execution": {
     "iopub.execute_input": "2022-02-26T23:55:06.841141Z",
     "iopub.status.busy": "2022-02-26T23:55:06.840417Z",
     "iopub.status.idle": "2022-02-26T23:55:06.842977Z",
     "shell.execute_reply": "2022-02-26T23:55:06.842543Z",
     "shell.execute_reply.started": "2022-02-26T23:28:07.761091Z"
    },
    "papermill": {
     "duration": 0.025348,
     "end_time": "2022-02-26T23:55:06.843080",
     "exception": false,
     "start_time": "2022-02-26T23:55:06.817732",
     "status": "completed"
    },
    "tags": []
   },
   "outputs": [],
   "source": [
    "checkpointDir = './checkpoints'"
   ]
  },
  {
   "cell_type": "code",
   "execution_count": 10,
   "id": "2f68f89a",
   "metadata": {
    "execution": {
     "iopub.execute_input": "2022-02-26T23:55:06.887644Z",
     "iopub.status.busy": "2022-02-26T23:55:06.886743Z",
     "iopub.status.idle": "2022-02-26T23:55:06.888959Z",
     "shell.execute_reply": "2022-02-26T23:55:06.889322Z",
     "shell.execute_reply.started": "2022-02-26T23:28:15.729751Z"
    },
    "papermill": {
     "duration": 0.026602,
     "end_time": "2022-02-26T23:55:06.889461",
     "exception": false,
     "start_time": "2022-02-26T23:55:06.862859",
     "status": "completed"
    },
    "tags": []
   },
   "outputs": [],
   "source": [
    "# Parameters\n",
    "epochs = 10\n",
    "batchSize = 1\n",
    "wordEmbeddingDim = 128\n",
    "labelEmbeddingDim = 16\n",
    "encHiddenDim = 128\n",
    "decHiddenDim = 512\n",
    "dropoutRate = 0.3"
   ]
  },
  {
   "cell_type": "code",
   "execution_count": 11,
   "id": "27f754bc",
   "metadata": {
    "execution": {
     "iopub.execute_input": "2022-02-26T23:55:06.961599Z",
     "iopub.status.busy": "2022-02-26T23:55:06.956603Z",
     "iopub.status.idle": "2022-02-26T23:56:03.148167Z",
     "shell.execute_reply": "2022-02-26T23:56:03.147724Z",
     "shell.execute_reply.started": "2022-02-26T23:28:16.677824Z"
    },
    "papermill": {
     "duration": 56.239529,
     "end_time": "2022-02-26T23:56:03.148294",
     "exception": false,
     "start_time": "2022-02-26T23:55:06.908765",
     "status": "completed"
    },
    "tags": []
   },
   "outputs": [
    {
     "name": "stderr",
     "output_type": "stream",
     "text": [
      "100%|██████████| 15590/15590 [00:55<00:00, 279.02it/s]\n"
     ]
    }
   ],
   "source": [
    "# Set up the vocabulary.\n",
    "lexicalVocab, labelVocab = setUpVocab(dfBase)"
   ]
  },
  {
   "cell_type": "code",
   "execution_count": 12,
   "id": "b2956fce",
   "metadata": {
    "execution": {
     "iopub.execute_input": "2022-02-26T23:56:03.538783Z",
     "iopub.status.busy": "2022-02-26T23:56:03.537860Z",
     "iopub.status.idle": "2022-02-26T23:56:03.782803Z",
     "shell.execute_reply": "2022-02-26T23:56:03.782248Z",
     "shell.execute_reply.started": "2022-02-26T23:29:11.438429Z"
    },
    "papermill": {
     "duration": 0.444276,
     "end_time": "2022-02-26T23:56:03.782934",
     "exception": false,
     "start_time": "2022-02-26T23:56:03.338658",
     "status": "completed"
    },
    "tags": []
   },
   "outputs": [],
   "source": [
    "# Data loaders. \n",
    "trainLoader = getDataLoader(trainSet, batchSize, True)\n",
    "valLoader = getDataLoader(valSet,batchSize,False)"
   ]
  },
  {
   "cell_type": "markdown",
   "id": "d33e4b19",
   "metadata": {
    "papermill": {
     "duration": 0.187661,
     "end_time": "2022-02-26T23:56:04.159914",
     "exception": false,
     "start_time": "2022-02-26T23:56:03.972253",
     "status": "completed"
    },
    "tags": []
   },
   "source": [
    "### MODEL"
   ]
  },
  {
   "cell_type": "code",
   "execution_count": 13,
   "id": "14a611f0",
   "metadata": {
    "execution": {
     "iopub.execute_input": "2022-02-26T23:56:04.542255Z",
     "iopub.status.busy": "2022-02-26T23:56:04.541644Z",
     "iopub.status.idle": "2022-02-26T23:56:04.718865Z",
     "shell.execute_reply": "2022-02-26T23:56:04.718378Z",
     "shell.execute_reply.started": "2022-02-26T23:29:12.728244Z"
    },
    "papermill": {
     "duration": 0.371711,
     "end_time": "2022-02-26T23:56:04.718993",
     "exception": false,
     "start_time": "2022-02-26T23:56:04.347282",
     "status": "completed"
    },
    "tags": []
   },
   "outputs": [],
   "source": [
    "model = LeftmostSeg(\n",
    "    lexicalVocab, \n",
    "    labelVocab, \n",
    "    wordEmbeddingDim,\n",
    "    labelEmbeddingDim, \n",
    "    encHiddenDim,\n",
    "    decHiddenDim, \n",
    "    dropoutRate\n",
    ")"
   ]
  },
  {
   "cell_type": "code",
   "execution_count": 14,
   "id": "825082c4",
   "metadata": {
    "execution": {
     "iopub.execute_input": "2022-02-26T23:56:05.102605Z",
     "iopub.status.busy": "2022-02-26T23:56:05.101727Z",
     "iopub.status.idle": "2022-02-26T23:56:08.730830Z",
     "shell.execute_reply": "2022-02-26T23:56:08.731502Z",
     "shell.execute_reply.started": "2022-02-26T23:29:14.877881Z"
    },
    "papermill": {
     "duration": 3.823676,
     "end_time": "2022-02-26T23:56:08.731737",
     "exception": false,
     "start_time": "2022-02-26T23:56:04.908061",
     "status": "completed"
    },
    "tags": []
   },
   "outputs": [],
   "source": [
    "if torch.cuda.is_available():\n",
    "    model = model.cuda()\n",
    "optimizer = Adam(model.parameters(), weight_decay=1e-6)"
   ]
  },
  {
   "cell_type": "code",
   "execution_count": 15,
   "id": "69fe7831",
   "metadata": {
    "execution": {
     "iopub.execute_input": "2022-02-26T23:56:09.161799Z",
     "iopub.status.busy": "2022-02-26T23:56:09.159980Z",
     "iopub.status.idle": "2022-02-26T23:56:09.162488Z",
     "shell.execute_reply": "2022-02-26T23:56:09.162994Z",
     "shell.execute_reply.started": "2022-02-26T23:29:18.397741Z"
    },
    "papermill": {
     "duration": 0.202284,
     "end_time": "2022-02-26T23:56:09.163132",
     "exception": false,
     "start_time": "2022-02-26T23:56:08.960848",
     "status": "completed"
    },
    "tags": []
   },
   "outputs": [],
   "source": [
    "best_val = 0.0\n",
    "savePath = os.path.join(checkpointDir, \"model.pt\")\n",
    "if not os.path.exists(checkpointDir):\n",
    "    os.makedirs(checkpointDir)"
   ]
  },
  {
   "cell_type": "code",
   "execution_count": 16,
   "id": "bda3ecac",
   "metadata": {
    "execution": {
     "iopub.execute_input": "2022-02-26T23:56:09.548633Z",
     "iopub.status.busy": "2022-02-26T23:56:09.547805Z",
     "iopub.status.idle": "2022-02-27T03:53:42.050677Z",
     "shell.execute_reply": "2022-02-27T03:53:42.050143Z",
     "shell.execute_reply.started": "2022-02-26T23:29:20.605780Z"
    },
    "papermill": {
     "duration": 14252.698429,
     "end_time": "2022-02-27T03:53:42.050825",
     "exception": false,
     "start_time": "2022-02-26T23:56:09.352396",
     "status": "completed"
    },
    "tags": []
   },
   "outputs": [
    {
     "name": "stderr",
     "output_type": "stream",
     "text": [
      "100%|███████| 12472/12472 [17:11<00:00, 12.09it/s]\n"
     ]
    },
    {
     "name": "stdout",
     "output_type": "stream",
     "text": [
      "[Epoch   0] loss on train set is 38968.67180 using 1031.892 secs\n"
     ]
    },
    {
     "name": "stderr",
     "output_type": "stream",
     "text": [
      "100%|█████████| 3118/3118 [03:49<00:00, 13.59it/s]\n"
     ]
    },
    {
     "name": "stdout",
     "output_type": "stream",
     "text": [
      "(Epoch   0) f1 score on dev set is 0.41043 using 230.398 secs\n",
      "\n",
      "<Epoch   0> save the model with test score, 0.41043, in terms of dev\n",
      "\n",
      "\n"
     ]
    },
    {
     "name": "stderr",
     "output_type": "stream",
     "text": [
      "100%|███████| 12472/12472 [18:11<00:00, 11.42it/s]\n"
     ]
    },
    {
     "name": "stdout",
     "output_type": "stream",
     "text": [
      "[Epoch   1] loss on train set is 27920.19113 using 1091.915 secs\n"
     ]
    },
    {
     "name": "stderr",
     "output_type": "stream",
     "text": [
      "100%|█████████| 3118/3118 [03:51<00:00, 13.46it/s]\n"
     ]
    },
    {
     "name": "stdout",
     "output_type": "stream",
     "text": [
      "(Epoch   1) f1 score on dev set is 0.45478 using 232.849 secs\n",
      "\n",
      "<Epoch   1> save the model with test score, 0.45478, in terms of dev\n",
      "\n",
      "\n"
     ]
    },
    {
     "name": "stderr",
     "output_type": "stream",
     "text": [
      "100%|███████| 12472/12472 [17:38<00:00, 11.79it/s]\n"
     ]
    },
    {
     "name": "stdout",
     "output_type": "stream",
     "text": [
      "[Epoch   2] loss on train set is 25260.12666 using 1058.210 secs\n"
     ]
    },
    {
     "name": "stderr",
     "output_type": "stream",
     "text": [
      "100%|█████████| 3118/3118 [03:47<00:00, 13.72it/s]\n"
     ]
    },
    {
     "name": "stdout",
     "output_type": "stream",
     "text": [
      "(Epoch   2) f1 score on dev set is 0.47955 using 228.181 secs\n",
      "\n",
      "<Epoch   2> save the model with test score, 0.47955, in terms of dev\n",
      "\n",
      "\n"
     ]
    },
    {
     "name": "stderr",
     "output_type": "stream",
     "text": [
      "100%|███████| 12472/12472 [17:43<00:00, 11.73it/s]\n"
     ]
    },
    {
     "name": "stdout",
     "output_type": "stream",
     "text": [
      "[Epoch   3] loss on train set is 23823.04415 using 1063.573 secs\n"
     ]
    },
    {
     "name": "stderr",
     "output_type": "stream",
     "text": [
      "100%|█████████| 3118/3118 [03:49<00:00, 13.61it/s]\n"
     ]
    },
    {
     "name": "stdout",
     "output_type": "stream",
     "text": [
      "(Epoch   3) f1 score on dev set is 0.48277 using 230.167 secs\n",
      "\n",
      "<Epoch   3> save the model with test score, 0.48277, in terms of dev\n",
      "\n",
      "\n"
     ]
    },
    {
     "name": "stderr",
     "output_type": "stream",
     "text": [
      "100%|███████| 12472/12472 [17:32<00:00, 11.85it/s]\n"
     ]
    },
    {
     "name": "stdout",
     "output_type": "stream",
     "text": [
      "[Epoch   4] loss on train set is 22793.26798 using 1052.069 secs\n"
     ]
    },
    {
     "name": "stderr",
     "output_type": "stream",
     "text": [
      "100%|█████████| 3118/3118 [03:52<00:00, 13.40it/s]\n"
     ]
    },
    {
     "name": "stdout",
     "output_type": "stream",
     "text": [
      "(Epoch   4) f1 score on dev set is 0.48954 using 233.665 secs\n",
      "\n",
      "<Epoch   4> save the model with test score, 0.48954, in terms of dev\n",
      "\n",
      "\n"
     ]
    },
    {
     "name": "stderr",
     "output_type": "stream",
     "text": [
      "100%|███████| 12472/12472 [17:36<00:00, 11.81it/s]\n"
     ]
    },
    {
     "name": "stdout",
     "output_type": "stream",
     "text": [
      "[Epoch   5] loss on train set is 21979.98522 using 1056.209 secs\n"
     ]
    },
    {
     "name": "stderr",
     "output_type": "stream",
     "text": [
      "100%|█████████| 3118/3118 [03:58<00:00, 13.08it/s]\n"
     ]
    },
    {
     "name": "stdout",
     "output_type": "stream",
     "text": [
      "(Epoch   5) f1 score on dev set is 0.50143 using 239.523 secs\n",
      "\n",
      "<Epoch   5> save the model with test score, 0.50143, in terms of dev\n",
      "\n",
      "\n"
     ]
    },
    {
     "name": "stderr",
     "output_type": "stream",
     "text": [
      "100%|███████| 12472/12472 [17:46<00:00, 11.69it/s]\n"
     ]
    },
    {
     "name": "stdout",
     "output_type": "stream",
     "text": [
      "[Epoch   6] loss on train set is 21157.05986 using 1066.692 secs\n"
     ]
    },
    {
     "name": "stderr",
     "output_type": "stream",
     "text": [
      "100%|█████████| 3118/3118 [03:48<00:00, 13.67it/s]\n"
     ]
    },
    {
     "name": "stdout",
     "output_type": "stream",
     "text": [
      "(Epoch   6) f1 score on dev set is 0.49546 using 229.054 secs\n",
      "\n",
      "\n"
     ]
    },
    {
     "name": "stderr",
     "output_type": "stream",
     "text": [
      "100%|███████| 12472/12472 [17:29<00:00, 11.88it/s]\n"
     ]
    },
    {
     "name": "stdout",
     "output_type": "stream",
     "text": [
      "[Epoch   7] loss on train set is 20582.78415 using 1049.559 secs\n"
     ]
    },
    {
     "name": "stderr",
     "output_type": "stream",
     "text": [
      "100%|█████████| 3118/3118 [03:47<00:00, 13.71it/s]\n"
     ]
    },
    {
     "name": "stdout",
     "output_type": "stream",
     "text": [
      "(Epoch   7) f1 score on dev set is 0.50066 using 228.385 secs\n",
      "\n",
      "\n"
     ]
    },
    {
     "name": "stderr",
     "output_type": "stream",
     "text": [
      "100%|███████| 12472/12472 [17:39<00:00, 11.78it/s]\n"
     ]
    },
    {
     "name": "stdout",
     "output_type": "stream",
     "text": [
      "[Epoch   8] loss on train set is 20037.11506 using 1059.007 secs\n"
     ]
    },
    {
     "name": "stderr",
     "output_type": "stream",
     "text": [
      "100%|█████████| 3118/3118 [03:37<00:00, 14.35it/s]\n"
     ]
    },
    {
     "name": "stdout",
     "output_type": "stream",
     "text": [
      "(Epoch   8) f1 score on dev set is 0.49978 using 218.421 secs\n",
      "\n",
      "\n"
     ]
    },
    {
     "name": "stderr",
     "output_type": "stream",
     "text": [
      "100%|███████| 12472/12472 [18:04<00:00, 11.50it/s]\n"
     ]
    },
    {
     "name": "stdout",
     "output_type": "stream",
     "text": [
      "[Epoch   9] loss on train set is 19418.43376 using 1084.065 secs\n"
     ]
    },
    {
     "name": "stderr",
     "output_type": "stream",
     "text": [
      "100%|█████████| 3118/3118 [03:58<00:00, 13.06it/s]\n"
     ]
    },
    {
     "name": "stdout",
     "output_type": "stream",
     "text": [
      "(Epoch   9) f1 score on dev set is 0.50621 using 239.752 secs\n",
      "\n",
      "<Epoch   9> save the model with test score, 0.50621, in terms of dev\n",
      "\n",
      "\n"
     ]
    },
    {
     "name": "stderr",
     "output_type": "stream",
     "text": [
      "100%|███████| 12472/12472 [18:07<00:00, 11.47it/s]\n"
     ]
    },
    {
     "name": "stdout",
     "output_type": "stream",
     "text": [
      "[Epoch  10] loss on train set is 18964.49135 using 1087.554 secs\n"
     ]
    },
    {
     "name": "stderr",
     "output_type": "stream",
     "text": [
      "100%|█████████| 3118/3118 [03:57<00:00, 13.13it/s]\n"
     ]
    },
    {
     "name": "stdout",
     "output_type": "stream",
     "text": [
      "(Epoch  10) f1 score on dev set is 0.50319 using 238.721 secs\n",
      "\n",
      "\n"
     ]
    }
   ],
   "source": [
    "for epoch_idx in range(0, epochs + 1):\n",
    "    train_loss, train_time = Procedure.train(model, trainLoader, optimizer)\n",
    "    print(\"[Epoch {:3d}] loss on train set is {:.5f} using {:.3f} secs\".format(epoch_idx, train_loss, train_time))\n",
    "\n",
    "    val_score, val_time = Procedure.evaluate(model, valLoader)\n",
    "    print(\"(Epoch {:3d}) f1 score on dev set is {:.5f} using {:.3f} secs\".format(epoch_idx, val_score, val_time))\n",
    "        \n",
    "    if val_score > best_val:\n",
    "        best_val = val_score\n",
    "        print(\"\\n<Epoch {:3d}> save the model with test score, {:.5f}, in terms of dev\".format(epoch_idx, val_score))\n",
    "        torch.save(model, savePath)\n",
    "    print(end=\"\\n\\n\")"
   ]
  }
 ],
 "metadata": {
  "kernelspec": {
   "display_name": "Python 3",
   "language": "python",
   "name": "python3"
  },
  "language_info": {
   "codemirror_mode": {
    "name": "ipython",
    "version": 3
   },
   "file_extension": ".py",
   "mimetype": "text/x-python",
   "name": "python",
   "nbconvert_exporter": "python",
   "pygments_lexer": "ipython3",
   "version": "3.7.12"
  },
  "papermill": {
   "default_parameters": {},
   "duration": 14360.125587,
   "end_time": "2022-02-27T03:54:12.648956",
   "environment_variables": {},
   "exception": null,
   "input_path": "__notebook__.ipynb",
   "output_path": "__notebook__.ipynb",
   "parameters": {},
   "start_time": "2022-02-26T23:54:52.523369",
   "version": "2.3.3"
  }
 },
 "nbformat": 4,
 "nbformat_minor": 5
}
